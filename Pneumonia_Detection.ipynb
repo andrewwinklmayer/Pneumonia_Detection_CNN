{
 "cells": [
  {
   "cell_type": "markdown",
   "metadata": {},
   "source": [
    "# Pneumonia Detection for Kaggle Dataset\n",
    "Im folgenden werden Röntgenaufnahmen auf Lüngenentzündungen mit verschiedenen Modelen untersucht. Das Datenset wurde von [Kaggle](https://www.kaggle.com/paultimothymooney/chest-xray-pneumonia) heruntergeladen: \n",
    ">The dataset is organized into 3 folders (train, test, val) and contains subfolders for each image category (Pneumonia/Normal). There are 5,863 X-Ray images (JPEG) and 2 categories (Pneumonia/Normal).\n",
    "\n",
    ">Chest X-ray images (anterior-posterior) were selected from retrospective cohorts of pediatric patients of one to five years old from Guangzhou Women and Children’s Medical Center, Guangzhou. All chest X-ray imaging was performed as part of patients’ routine clinical care.\n",
    "\n",
    ">For the analysis of chest x-ray images, all chest radiographs were initially screened for quality control by removing all low quality or unreadable scans. The diagnoses for the images were then graded by two expert physicians before being cleared for training the AI system. In order to account for any grading errors, the evaluation set was also checked by a third expert.\n",
    "\n",
    "__Das Ergebnis ein Klassifikator mit 87%-Accuracy.__\n",
    "\n",
    "#### Beispiel einer normalen Lunge:\n",
    "![Normalelunge](Normal.jpeg)\n",
    "\n",
    "#### Beispiel von Pneumonia:\n",
    "Erkennbar an der unscharft verschlierten Grauton im rechten (=des Patienten linken Seite) Lungenflügel .\n",
    "![Pneumonia-Lunge](Pneumonia.jpeg)"
   ]
  },
  {
   "cell_type": "markdown",
   "metadata": {},
   "source": [
    "## Import Libraries"
   ]
  },
  {
   "cell_type": "code",
   "execution_count": 155,
   "metadata": {},
   "outputs": [],
   "source": [
    "import pandas as pd\n",
    "import numpy as np\n",
    "import matplotlib.pyplot as plt\n",
    "import os \n",
    "from sklearn.metrics import classification_report\n",
    "from sklearn.metrics import accuracy_score\n",
    "from sklearn.metrics import confusion_matrix\n",
    "from keras.applications import VGG19\n",
    "from keras.preprocessing.image import ImageDataGenerator\n",
    "from keras.optimizers import SGD, Adam\n",
    "from keras.models import Model \n",
    "from keras.layers import Dropout, Flatten, Dense, GlobalAveragePooling2D\n",
    "from keras.callbacks import EarlyStopping\n",
    "from keras import models\n",
    "from keras import layers\n",
    "from keras import optimizers\n",
    "from keras.applications import VGG16\n",
    "from keras.applications.inception_v3 import InceptionV3\n",
    "import random\n",
    "from utils_plot import plot_both\n",
    "from keras.callbacks import ModelCheckpoint\n",
    "\n",
    "\n",
    "%matplotlib inline"
   ]
  },
  {
   "cell_type": "markdown",
   "metadata": {},
   "source": [
    "## Define Constants"
   ]
  },
  {
   "cell_type": "code",
   "execution_count": 156,
   "metadata": {},
   "outputs": [],
   "source": [
    "img_width, img_height = 1857,1317\n",
    "\n",
    "\n",
    "data_dir = r\"/Users/Andreas/Downloads/chest_xray/chest_xray\"\n",
    "train_dir = data_dir + r\"/train\"\n",
    "valid_dir = data_dir + r\"/val\"\n",
    "test_dir = data_dir + r\"/test\"\n",
    "output_dir = data_dir\n",
    "\n",
    "batch_size = 32\n",
    "rescale = 1./255\n",
    "target_size = (75,75)\n",
    "class_mode = \"binary\"\n",
    "\n",
    "num_test = 624\n",
    "num_valid = 16\n"
   ]
  },
  {
   "cell_type": "markdown",
   "metadata": {},
   "source": [
    "## Preprocessing"
   ]
  },
  {
   "cell_type": "code",
   "execution_count": 157,
   "metadata": {},
   "outputs": [
    {
     "name": "stdout",
     "output_type": "stream",
     "text": [
      "Found 5216 images belonging to 2 classes.\n",
      "Found 16 images belonging to 2 classes.\n",
      "Found 624 images belonging to 2 classes.\n"
     ]
    }
   ],
   "source": [
    "train_datagen = ImageDataGenerator(rescale = rescale,\n",
    "                                  shear_range = 0.2,\n",
    "                                  zoom_range = 0.2,\n",
    "                                  horizontal_flip=True)\n",
    "validation_datagen = ImageDataGenerator(rescale=rescale)\n",
    "test_datagen = ImageDataGenerator(rescale = rescale)\n",
    "\n",
    "\n",
    "train_generator = train_datagen.flow_from_directory(train_dir,\n",
    "                                                    target_size = target_size,\n",
    "                                                    batch_size = batch_size,\n",
    "                                                    class_mode = class_mode,\n",
    "                                                    shuffle=True)\n",
    "\n",
    "\n",
    "validation_generator = validation_datagen.flow_from_directory(valid_dir,\n",
    "                                                              target_size=target_size,\n",
    "                                                              class_mode=class_mode,\n",
    "                                                              batch_size=num_valid,\n",
    "                                                              shuffle = False)\n",
    "\n",
    "test_generator = test_datagen.flow_from_directory(test_dir,\n",
    "                                                  target_size = target_size,\n",
    "                                                  batch_size = num_test,\n",
    "                                                  class_mode = class_mode,\n",
    "                                                  shuffle=False)"
   ]
  },
  {
   "cell_type": "markdown",
   "metadata": {},
   "source": [
    "## Data Visualization"
   ]
  },
  {
   "cell_type": "code",
   "execution_count": 158,
   "metadata": {},
   "outputs": [
    {
     "data": {
      "image/png": "[encoded data removed]",
      "text/plain": [
       "<Figure size 432x288 with 1 Axes>"
      ]
     },
     "metadata": {
      "needs_background": "light"
     },
     "output_type": "display_data"
    }
   ],
   "source": [
    "train_normal_num= np.count_nonzero(train_generator.classes==0)\n",
    "train_pneumonia_num= np.count_nonzero(train_generator.classes==1)\n",
    "\n",
    "val_normal_num= np.count_nonzero(validation_generator.classes==0)\n",
    "val_pneumonia_num= np.count_nonzero(validation_generator.classes==1)\n",
    "\n",
    "test_normal_num= np.count_nonzero(test_generator.classes==0)\n",
    "test_pneumonia_num=  np.count_nonzero(test_generator.classes==1)\n",
    "\n",
    "# data to plot\n",
    "n_groups = 3\n",
    "normal = (train_normal_num, val_normal_num, test_normal_num)\n",
    "pneumonia = (train_pneumonia_num, val_pneumonia_num, test_pneumonia_num)\n",
    "\n",
    "# create plot\n",
    "fig, ax = plt.subplots()\n",
    "index = np.arange(3)\n",
    "bar_width = 0.35\n",
    "opacity = 0.8\n",
    "\n",
    "rects1 = plt.bar(index, normal, bar_width,alpha=opacity,\n",
    "color='b',\n",
    "label='Normal')\n",
    "\n",
    "rects2 = plt.bar(index + bar_width, pneumonia, bar_width,alpha=opacity,\n",
    "color='g',\n",
    "label='Pneumonia')\n",
    "\n",
    "plt.xlabel('Set')\n",
    "plt.ylabel('Count')\n",
    "plt.title('Count by Set')\n",
    "plt.xticks(index + bar_width, ('Train', 'Val', 'Test'))\n",
    "plt.legend()\n",
    "\n",
    "plt.tight_layout()\n",
    "plt.show()\n"
   ]
  },
  {
   "cell_type": "markdown",
   "metadata": {},
   "source": [
    "## Model mit VGG16"
   ]
  },
  {
   "cell_type": "code",
   "execution_count": 159,
   "metadata": {},
   "outputs": [],
   "source": [
    "conv_base = VGG16(weights=\"imagenet\",\n",
    "                 include_top=False,\n",
    "                 input_shape=(75,75,3))"
   ]
  },
  {
   "cell_type": "code",
   "execution_count": 160,
   "metadata": {},
   "outputs": [],
   "source": [
    "conv_base.trainable = False"
   ]
  },
  {
   "cell_type": "code",
   "execution_count": 161,
   "metadata": {},
   "outputs": [
    {
     "name": "stdout",
     "output_type": "stream",
     "text": [
      "_________________________________________________________________\n",
      "Layer (type)                 Output Shape              Param #   \n",
      "=================================================================\n",
      "input_9 (InputLayer)         (None, 75, 75, 3)         0         \n",
      "_________________________________________________________________\n",
      "block1_conv1 (Conv2D)        (None, 75, 75, 64)        1792      \n",
      "_________________________________________________________________\n",
      "block1_conv2 (Conv2D)        (None, 75, 75, 64)        36928     \n",
      "_________________________________________________________________\n",
      "block1_pool (MaxPooling2D)   (None, 37, 37, 64)        0         \n",
      "_________________________________________________________________\n",
      "block2_conv1 (Conv2D)        (None, 37, 37, 128)       73856     \n",
      "_________________________________________________________________\n",
      "block2_conv2 (Conv2D)        (None, 37, 37, 128)       147584    \n",
      "_________________________________________________________________\n",
      "block2_pool (MaxPooling2D)   (None, 18, 18, 128)       0         \n",
      "_________________________________________________________________\n",
      "block3_conv1 (Conv2D)        (None, 18, 18, 256)       295168    \n",
      "_________________________________________________________________\n",
      "block3_conv2 (Conv2D)        (None, 18, 18, 256)       590080    \n",
      "_________________________________________________________________\n",
      "block3_conv3 (Conv2D)        (None, 18, 18, 256)       590080    \n",
      "_________________________________________________________________\n",
      "block3_pool (MaxPooling2D)   (None, 9, 9, 256)         0         \n",
      "_________________________________________________________________\n",
      "block4_conv1 (Conv2D)        (None, 9, 9, 512)         1180160   \n",
      "_________________________________________________________________\n",
      "block4_conv2 (Conv2D)        (None, 9, 9, 512)         2359808   \n",
      "_________________________________________________________________\n",
      "block4_conv3 (Conv2D)        (None, 9, 9, 512)         2359808   \n",
      "_________________________________________________________________\n",
      "block4_pool (MaxPooling2D)   (None, 4, 4, 512)         0         \n",
      "_________________________________________________________________\n",
      "block5_conv1 (Conv2D)        (None, 4, 4, 512)         2359808   \n",
      "_________________________________________________________________\n",
      "block5_conv2 (Conv2D)        (None, 4, 4, 512)         2359808   \n",
      "_________________________________________________________________\n",
      "block5_conv3 (Conv2D)        (None, 4, 4, 512)         2359808   \n",
      "_________________________________________________________________\n",
      "block5_pool (MaxPooling2D)   (None, 2, 2, 512)         0         \n",
      "=================================================================\n",
      "Total params: 14,714,688\n",
      "Trainable params: 0\n",
      "Non-trainable params: 14,714,688\n",
      "_________________________________________________________________\n"
     ]
    }
   ],
   "source": [
    "conv_base.summary()"
   ]
  },
  {
   "cell_type": "code",
   "execution_count": 162,
   "metadata": {},
   "outputs": [],
   "source": [
    "model = models.Sequential()\n",
    "model.add(conv_base)\n",
    "model.add(layers.Flatten())\n",
    "model.add(layers.Dense(256,activation =\"relu\", input_dim = 3*4*4*512, name =\"Dense1\"))\n",
    "model.add(layers.Dropout(0.5))\n",
    "model.add(layers.Dense(1, activation=\"sigmoid\", name = \"Dense2\"))"
   ]
  },
  {
   "cell_type": "code",
   "execution_count": 163,
   "metadata": {},
   "outputs": [],
   "source": [
    "model.compile(optimizer=optimizers.Adam(lr=0.005),\n",
    "             loss=\"binary_crossentropy\",\n",
    "             metrics=[\"acc\"])"
   ]
  },
  {
   "cell_type": "code",
   "execution_count": 164,
   "metadata": {},
   "outputs": [
    {
     "name": "stdout",
     "output_type": "stream",
     "text": [
      "_________________________________________________________________\n",
      "Layer (type)                 Output Shape              Param #   \n",
      "=================================================================\n",
      "vgg16 (Model)                (None, 2, 2, 512)         14714688  \n",
      "_________________________________________________________________\n",
      "flatten_9 (Flatten)          (None, 2048)              0         \n",
      "_________________________________________________________________\n",
      "Dense1 (Dense)               (None, 256)               524544    \n",
      "_________________________________________________________________\n",
      "dropout_9 (Dropout)          (None, 256)               0         \n",
      "_________________________________________________________________\n",
      "Dense2 (Dense)               (None, 1)                 257       \n",
      "=================================================================\n",
      "Total params: 15,239,489\n",
      "Trainable params: 524,801\n",
      "Non-trainable params: 14,714,688\n",
      "_________________________________________________________________\n"
     ]
    }
   ],
   "source": [
    "model.summary()"
   ]
  },
  {
   "cell_type": "code",
   "execution_count": 165,
   "metadata": {},
   "outputs": [],
   "source": [
    "filepath=r\"/Users/Andreas/Pneumonia_Detection_Kaggle/Checkpoint_output/partialy_fitted.h5\"\n",
    "checkpoint = ModelCheckpoint(filepath, monitor='val_acc', verbose=1, save_best_only=True, mode='auto')\n",
    "callbacks_list = [checkpoint]"
   ]
  },
  {
   "cell_type": "code",
   "execution_count": 166,
   "metadata": {},
   "outputs": [
    {
     "name": "stdout",
     "output_type": "stream",
     "text": [
      "Epoch 1/16\n",
      "8/8 [==============================] - 46s 6s/step - loss: 1.2127 - acc: 0.6992 - val_loss: 0.4181 - val_acc: 0.9375\n",
      "Epoch 2/16\n",
      "8/8 [==============================] - 26s 3s/step - loss: 0.4512 - acc: 0.8242 - val_loss: 0.2964 - val_acc: 0.9375\n",
      "Epoch 3/16\n",
      "8/8 [==============================] - 27s 3s/step - loss: 0.4335 - acc: 0.7930 - val_loss: 0.3370 - val_acc: 0.8750\n",
      "Epoch 4/16\n",
      "8/8 [==============================] - 23s 3s/step - loss: 0.2863 - acc: 0.8789 - val_loss: 0.3070 - val_acc: 0.9375\n",
      "Epoch 5/16\n",
      "8/8 [==============================] - 24s 3s/step - loss: 0.2697 - acc: 0.8750 - val_loss: 0.2990 - val_acc: 0.8750\n",
      "Epoch 6/16\n",
      "8/8 [==============================] - 22s 3s/step - loss: 0.2643 - acc: 0.8984 - val_loss: 0.2803 - val_acc: 0.9375\n",
      "Epoch 7/16\n",
      "8/8 [==============================] - 24s 3s/step - loss: 0.2110 - acc: 0.9062 - val_loss: 0.2951 - val_acc: 0.9375\n",
      "Epoch 8/16\n",
      "8/8 [==============================] - 25s 3s/step - loss: 0.2448 - acc: 0.9023 - val_loss: 0.2400 - val_acc: 0.9375\n",
      "Epoch 9/16\n",
      "8/8 [==============================] - 25s 3s/step - loss: 0.2224 - acc: 0.9102 - val_loss: 0.2358 - val_acc: 0.9375\n",
      "Epoch 10/16\n",
      "8/8 [==============================] - 24s 3s/step - loss: 0.3500 - acc: 0.8359 - val_loss: 0.2779 - val_acc: 0.9375\n",
      "Epoch 11/16\n",
      "8/8 [==============================] - 27s 3s/step - loss: 0.2648 - acc: 0.8867 - val_loss: 0.2805 - val_acc: 0.9375\n",
      "Epoch 12/16\n",
      "8/8 [==============================] - 22s 3s/step - loss: 0.2236 - acc: 0.9219 - val_loss: 0.3186 - val_acc: 0.8750\n",
      "Epoch 13/16\n",
      "8/8 [==============================] - 22s 3s/step - loss: 0.2102 - acc: 0.8984 - val_loss: 0.2240 - val_acc: 0.9375\n",
      "Epoch 14/16\n",
      "8/8 [==============================] - 25s 3s/step - loss: 0.2093 - acc: 0.9297 - val_loss: 0.2670 - val_acc: 0.9375\n",
      "Epoch 15/16\n",
      "8/8 [==============================] - 26s 3s/step - loss: 0.2832 - acc: 0.8867 - val_loss: 0.2534 - val_acc: 0.8750\n",
      "Epoch 16/16\n",
      "8/8 [==============================] - 22s 3s/step - loss: 0.2483 - acc: 0.9180 - val_loss: 0.3328 - val_acc: 0.9375\n"
     ]
    }
   ],
   "source": [
    "history = model.fit_generator(generator=train_generator,\n",
    "                              validation_data=validation_generator,\n",
    "                              steps_per_epoch=8,\n",
    "                              validation_steps=8,\n",
    "                              epochs=16)"
   ]
  },
  {
   "cell_type": "code",
   "execution_count": 36,
   "metadata": {},
   "outputs": [],
   "source": [
    "model.save(\"pneumoniaVGG.h5\")"
   ]
  },
  {
   "cell_type": "code",
   "execution_count": 167,
   "metadata": {},
   "outputs": [
    {
     "data": {
      "image/png": "[encoded data removed]",
      "text/plain": [
       "<Figure size 432x288 with 2 Axes>"
      ]
     },
     "metadata": {
      "needs_background": "light"
     },
     "output_type": "display_data"
    }
   ],
   "source": [
    "plot_both(history)"
   ]
  },
  {
   "cell_type": "code",
   "execution_count": 141,
   "metadata": {},
   "outputs": [],
   "source": [
    "loss, acc = model.evaluate_generator(test_generator,steps=8)"
   ]
  },
  {
   "cell_type": "code",
   "execution_count": 142,
   "metadata": {},
   "outputs": [
    {
     "data": {
      "text/plain": [
       "0.870192289352417"
      ]
     },
     "execution_count": 142,
     "metadata": {},
     "output_type": "execute_result"
    }
   ],
   "source": [
    "acc"
   ]
  },
  {
   "cell_type": "code",
   "execution_count": 67,
   "metadata": {},
   "outputs": [],
   "source": [
    "probabilites = model.predict_generator(test_generator,steps=1)"
   ]
  },
  {
   "cell_type": "code",
   "execution_count": 73,
   "metadata": {},
   "outputs": [
    {
     "data": {
      "text/html": [
       "<div>\n",
       "<style scoped>\n",
       "    .dataframe tbody tr th:only-of-type {\n",
       "        vertical-align: middle;\n",
       "    }\n",
       "\n",
       "    .dataframe tbody tr th {\n",
       "        vertical-align: top;\n",
       "    }\n",
       "\n",
       "    .dataframe thead th {\n",
       "        text-align: right;\n",
       "    }\n",
       "</style>\n",
       "<table border=\"1\" class=\"dataframe\">\n",
       "  <thead>\n",
       "    <tr style=\"text-align: right;\">\n",
       "      <th>Predicted</th>\n",
       "      <th>0</th>\n",
       "      <th>1</th>\n",
       "    </tr>\n",
       "    <tr>\n",
       "      <th>Actual</th>\n",
       "      <th></th>\n",
       "      <th></th>\n",
       "    </tr>\n",
       "  </thead>\n",
       "  <tbody>\n",
       "    <tr>\n",
       "      <td>0</td>\n",
       "      <td>162</td>\n",
       "      <td>72</td>\n",
       "    </tr>\n",
       "    <tr>\n",
       "      <td>1</td>\n",
       "      <td>10</td>\n",
       "      <td>380</td>\n",
       "    </tr>\n",
       "  </tbody>\n",
       "</table>\n",
       "</div>"
      ],
      "text/plain": [
       "Predicted    0    1\n",
       "Actual             \n",
       "0          162   72\n",
       "1           10  380"
      ]
     },
     "execution_count": 73,
     "metadata": {},
     "output_type": "execute_result"
    }
   ],
   "source": [
    "y_true = test_generator.classes\n",
    "y_pred = probabilites > 0.5\n",
    "\n",
    "data = confusion_matrix(y_true, y_pred)\n",
    "\n",
    "df = pd.DataFrame(data)\n",
    "df.index.name=\"Actual\"\n",
    "df.columns.name=\"Predicted\"\n",
    "df"
   ]
  },
  {
   "cell_type": "markdown",
   "metadata": {},
   "source": [
    "## Ergebnis:\n",
    "__Der Klassifikator erreicht über 85% Treffergenauigkeit.__\n",
    "Im Vergleich dazu erreichen Radiologen [nur bis zu 81%](https://www.ncbi.nlm.nih.gov/pubmed/887748). Andere veröffentlichte CNN für Pneumonia [erreichen 91%](https://becominghuman.ai/detecting-pneumonia-with-deep-learning-3cf49b640c14)."
   ]
  },
  {
   "cell_type": "code",
   "execution_count": null,
   "metadata": {},
   "outputs": [],
   "source": []
  }
 ],
 "metadata": {
  "kernelspec": {
   "display_name": "Python 3",
   "language": "python",
   "name": "python3"
  },
  "language_info": {
   "codemirror_mode": {
    "name": "ipython",
    "version": 3
   },
   "file_extension": ".py",
   "mimetype": "text/x-python",
   "name": "python",
   "nbconvert_exporter": "python",
   "pygments_lexer": "ipython3",
   "version": "3.7.2"
  }
 },
 "nbformat": 4,
 "nbformat_minor": 2
}
